{
  "nbformat": 4,
  "nbformat_minor": 0,
  "metadata": {
    "colab": {
      "provenance": []
    },
    "kernelspec": {
      "name": "python3",
      "display_name": "Python 3"
    },
    "language_info": {
      "name": "python"
    }
  },
  "cells": [
    {
      "cell_type": "code",
      "execution_count": 1,
      "metadata": {
        "colab": {
          "base_uri": "https://localhost:8080/"
        },
        "id": "yK7k9OyX6Kyu",
        "outputId": "4c72be9c-969c-49e7-cf51-ccd9a243cec9"
      },
      "outputs": [
        {
          "output_type": "stream",
          "name": "stdout",
          "text": [
            "Looking in indexes: https://pypi.org/simple, https://us-python.pkg.dev/colab-wheels/public/simple/\n",
            "Collecting netCDF4\n",
            "  Downloading netCDF4-1.6.3-cp39-cp39-manylinux_2_17_x86_64.manylinux2014_x86_64.whl (5.2 MB)\n",
            "\u001b[2K     \u001b[90m━━━━━━━━━━━━━━━━━━━━━━━━━━━━━━━━━━━━━━━━\u001b[0m \u001b[32m5.2/5.2 MB\u001b[0m \u001b[31m39.2 MB/s\u001b[0m eta \u001b[36m0:00:00\u001b[0m\n",
            "\u001b[?25hRequirement already satisfied: numpy in /usr/local/lib/python3.9/dist-packages (from netCDF4) (1.22.4)\n",
            "Collecting cftime\n",
            "  Downloading cftime-1.6.2-cp39-cp39-manylinux_2_17_x86_64.manylinux2014_x86_64.whl (1.3 MB)\n",
            "\u001b[2K     \u001b[90m━━━━━━━━━━━━━━━━━━━━━━━━━━━━━━━━━━━━━━━━\u001b[0m \u001b[32m1.3/1.3 MB\u001b[0m \u001b[31m61.8 MB/s\u001b[0m eta \u001b[36m0:00:00\u001b[0m\n",
            "\u001b[?25hInstalling collected packages: cftime, netCDF4\n",
            "Successfully installed cftime-1.6.2 netCDF4-1.6.3\n"
          ]
        }
      ],
      "source": [
        "pip install netCDF4"
      ]
    },
    {
      "cell_type": "code",
      "source": [
        "from scipy.io import netcdf_file\n",
        "import netCDF4 as nc\n",
        "import numpy as np\n",
        "import pandas as pd"
      ],
      "metadata": {
        "id": "WhygLMcP6TXC"
      },
      "execution_count": 2,
      "outputs": []
    },
    {
      "cell_type": "code",
      "source": [
        "SM=np.load('/content/drive/MyDrive/SoilMoisture.npy')"
      ],
      "metadata": {
        "id": "rcrqOhrN6XvZ"
      },
      "execution_count": 3,
      "outputs": []
    },
    {
      "cell_type": "code",
      "source": [
        "print(\"SM_Shape: \",SM.shape)"
      ],
      "metadata": {
        "colab": {
          "base_uri": "https://localhost:8080/"
        },
        "id": "aUgSf_ns6aWT",
        "outputId": "e499fd47-7543-4a2b-8b0a-4c1c0437dc29"
      },
      "execution_count": 4,
      "outputs": [
        {
          "output_type": "stream",
          "name": "stdout",
          "text": [
            "SM_Shape:  (1827, 80, 160)\n"
          ]
        }
      ]
    },
    {
      "cell_type": "code",
      "source": [
        "SM=SM[:,40,70]"
      ],
      "metadata": {
        "id": "5wUZwbDr6dSa"
      },
      "execution_count": 5,
      "outputs": []
    },
    {
      "cell_type": "code",
      "source": [
        "def train_test_split(data):\n",
        "    train_data = np.array(data[:1460])\n",
        "    val_data=np.array(data[1460:1645])\n",
        "    test_data = np.array(data[1645:])\n",
        "    return train_data, val_data,test_data\n",
        "train_data,val_data, test_data = train_test_split(SM)\n",
        "print(\"Train data: \", train_data.shape)\n",
        "print(\"Validation data: \", val_data.shape)\n",
        "print(\"Test data: \", test_data.shape)"
      ],
      "metadata": {
        "colab": {
          "base_uri": "https://localhost:8080/"
        },
        "id": "xx2Fh4qV6rA1",
        "outputId": "ff5c68fc-06b5-4a68-f5a5-634a285b6683"
      },
      "execution_count": 6,
      "outputs": [
        {
          "output_type": "stream",
          "name": "stdout",
          "text": [
            "Train data:  (1460,)\n",
            "Validation data:  (185,)\n",
            "Test data:  (182,)\n"
          ]
        }
      ]
    },
    {
      "cell_type": "code",
      "source": [
        "max_valsm= train_data.max()\n",
        "min_valsm= train_data.min()\n",
        "print(\"max_soilmoisturevalue: \",max_valsm)\n",
        "print(\"min_soilmoisturevalue: \",min_valsm)\n",
        "def scale_data(train_data,val_data, test_data):\n",
        "    max_valsm = train_data.max()\n",
        "    min_valsm = train_data.min()\n",
        "    train_scaled = (train_data - min_valsm) / (max_valsm - min_valsm)\n",
        "    val_scaled=(val_data-min_valsm)/(max_valsm - min_valsm)\n",
        "    test_scaled = (test_data - min_valsm) / (max_valsm - min_valsm)\n",
        "    return train_scaled, val_scaled,test_scaled\n",
        "train_data,val_data, test_data = scale_data(train_data,val_data, test_data)\n",
        "print(\"Train data after scaling: \", train_data.shape)\n",
        "print(\"Validation data after scaling: \", val_data.shape)\n",
        "print(\"Test data after scaling: \", test_data.shape)"
      ],
      "metadata": {
        "colab": {
          "base_uri": "https://localhost:8080/"
        },
        "id": "jS5gnuF69U31",
        "outputId": "b47086b7-a81c-40ff-d9be-507c111f28fb"
      },
      "execution_count": 7,
      "outputs": [
        {
          "output_type": "stream",
          "name": "stdout",
          "text": [
            "max_soilmoisturevalue:  0.32475504\n",
            "min_soilmoisturevalue:  0.14682238\n",
            "Train data after scaling:  (1460,)\n",
            "Validation data after scaling:  (185,)\n",
            "Test data after scaling:  (182,)\n"
          ]
        }
      ]
    },
    {
      "cell_type": "code",
      "source": [
        "seq_len=7\n",
        "pre_len=1\n",
        "trainX, trainY= [], []\n",
        "for i in range(train_data.shape[0] - int(seq_len + pre_len - 1)):\n",
        "        a = train_data[i : i + seq_len + pre_len]\n",
        "        trainX.append(a[:seq_len])\n",
        "        trainY.append(a[-1])\n",
        "trainX = np.array(trainX)\n",
        "trainY = np.array(trainY)\n",
        "print(\"Train data after feature engineering: \", trainX.shape)\n",
        "print(\"Train data after feature engineering:\", trainY.shape)\n"
      ],
      "metadata": {
        "colab": {
          "base_uri": "https://localhost:8080/"
        },
        "id": "QODw_tRD9Ysd",
        "outputId": "88df3082-a2cb-4a2a-f11c-fdbc32046b87"
      },
      "execution_count": 8,
      "outputs": [
        {
          "output_type": "stream",
          "name": "stdout",
          "text": [
            "Train data after feature engineering:  (1453, 7)\n",
            "Train data after feature engineering: (1453,)\n"
          ]
        }
      ]
    },
    {
      "cell_type": "code",
      "source": [
        "valX, valY= [], []\n",
        "for i in range(val_data.shape[0] - int(seq_len + pre_len - 1)):\n",
        "        a = val_data[i : i + seq_len + pre_len]\n",
        "        valX.append(a[:seq_len])\n",
        "        valY.append(a[-1])\n",
        "valX = np.array(valX)\n",
        "valY = np.array(valY)\n",
        "print(\"Validation data after feature engineering: \",valX.shape)\n",
        "print(\"Validation data after feature engineering: \",valY.shape)\n"
      ],
      "metadata": {
        "colab": {
          "base_uri": "https://localhost:8080/"
        },
        "id": "eJqLXCty9bmw",
        "outputId": "0d03be73-3b03-4464-d201-ad3ab5cfebd3"
      },
      "execution_count": 9,
      "outputs": [
        {
          "output_type": "stream",
          "name": "stdout",
          "text": [
            "Validation data after feature engineering:  (178, 7)\n",
            "Validation data after feature engineering:  (178,)\n"
          ]
        }
      ]
    },
    {
      "cell_type": "code",
      "source": [
        "testX, testY = [], []\n",
        "for i in range(test_data.shape[0] - int(seq_len + pre_len - 1)):\n",
        "        b = test_data[i : i + seq_len + pre_len]\n",
        "        testX.append(b[:seq_len])\n",
        "        testY.append(b[-1])\n",
        "testX = np.array(testX)\n",
        "testY = np.array(testY)\n",
        "print(\"Test data after feature engineering: \",testX.shape)\n",
        "print(\"Test data after feature engineering: \",testY.shape)"
      ],
      "metadata": {
        "colab": {
          "base_uri": "https://localhost:8080/"
        },
        "id": "KX4sQkGy9mmW",
        "outputId": "1eb59bf6-da28-4e8a-ef25-ca2eabe5367c"
      },
      "execution_count": 10,
      "outputs": [
        {
          "output_type": "stream",
          "name": "stdout",
          "text": [
            "Test data after feature engineering:  (175, 7)\n",
            "Test data after feature engineering:  (175,)\n"
          ]
        }
      ]
    },
    {
      "cell_type": "code",
      "source": [
        "from keras.models import Sequential\n",
        "from keras.layers import Dense, Dropout\n",
        "from keras.callbacks import EarlyStopping"
      ],
      "metadata": {
        "id": "DrnykWKP9seQ"
      },
      "execution_count": 11,
      "outputs": []
    },
    {
      "cell_type": "code",
      "source": [
        "trainY=trainY.reshape(1453,1)\n",
        "valY=valY.reshape(178,1)\n",
        "testY=testY.reshape(175,1)"
      ],
      "metadata": {
        "id": "vLopadk4Cdmt"
      },
      "execution_count": 12,
      "outputs": []
    },
    {
      "cell_type": "code",
      "source": [
        "print(trainX.shape)\n",
        "print(trainY.shape)\n",
        "print(valX.shape)\n",
        "print(valY.shape)\n",
        "print(testX.shape)\n",
        "print(testY.shape)"
      ],
      "metadata": {
        "colab": {
          "base_uri": "https://localhost:8080/"
        },
        "id": "NtlNXik6DF_i",
        "outputId": "6ea2333a-4a6b-4535-a68e-ee3ab441224e"
      },
      "execution_count": 13,
      "outputs": [
        {
          "output_type": "stream",
          "name": "stdout",
          "text": [
            "(1453, 7)\n",
            "(1453, 1)\n",
            "(178, 7)\n",
            "(178, 1)\n",
            "(175, 7)\n",
            "(175, 1)\n"
          ]
        }
      ]
    },
    {
      "cell_type": "code",
      "source": [
        "trainX.shape[1]"
      ],
      "metadata": {
        "colab": {
          "base_uri": "https://localhost:8080/"
        },
        "id": "XnAWhFS9CaM_",
        "outputId": "0aad0e5f-34a1-45c3-85f2-2dfdc3017893"
      },
      "execution_count": 14,
      "outputs": [
        {
          "output_type": "execute_result",
          "data": {
            "text/plain": [
              "7"
            ]
          },
          "metadata": {},
          "execution_count": 14
        }
      ]
    },
    {
      "cell_type": "code",
      "source": [
        "import tensorflow as tf"
      ],
      "metadata": {
        "id": "GW2AzB9RSq7f"
      },
      "execution_count": 23,
      "outputs": []
    },
    {
      "cell_type": "code",
      "source": [
        "\n",
        "# build the model!\n",
        "model = Sequential()\n",
        "model.add(Dense(64, input_shape=(trainX.shape[1],), activation='relu')) # (features,)\n",
        "model.add(Dense(16, activation='relu'))\n",
        "model.add(Dense(1, activation='linear')) # output node\n",
        "model.summary() # see what your model looks like\n",
        "\n",
        "# compile the model\n",
        "model.compile(optimizer='adam', loss='mse', metrics=[tf.keras.metrics.RootMeanSquaredError()])"
      ],
      "metadata": {
        "colab": {
          "base_uri": "https://localhost:8080/"
        },
        "id": "JDjtQF0JCJXq",
        "outputId": "7bc3f04e-9f2a-467a-ffb2-d103a9751f6f"
      },
      "execution_count": 24,
      "outputs": [
        {
          "output_type": "stream",
          "name": "stdout",
          "text": [
            "Model: \"sequential_2\"\n",
            "_________________________________________________________________\n",
            " Layer (type)                Output Shape              Param #   \n",
            "=================================================================\n",
            " dense_6 (Dense)             (None, 64)                512       \n",
            "                                                                 \n",
            " dense_7 (Dense)             (None, 16)                1040      \n",
            "                                                                 \n",
            " dense_8 (Dense)             (None, 1)                 17        \n",
            "                                                                 \n",
            "=================================================================\n",
            "Total params: 1,569\n",
            "Trainable params: 1,569\n",
            "Non-trainable params: 0\n",
            "_________________________________________________________________\n"
          ]
        }
      ]
    },
    {
      "cell_type": "code",
      "source": [
        "history = model.fit(trainX, trainY,\n",
        "                    validation_data = (testX, testY),\n",
        "                    epochs=100,\n",
        "                    batch_size=20,\n",
        "                    verbose=1)"
      ],
      "metadata": {
        "colab": {
          "base_uri": "https://localhost:8080/"
        },
        "id": "Zrsyb9D1DOcK",
        "outputId": "32809d56-1851-4caa-bef6-20e12060559e"
      },
      "execution_count": 25,
      "outputs": [
        {
          "output_type": "stream",
          "name": "stdout",
          "text": [
            "Epoch 1/100\n",
            "73/73 [==============================] - 1s 4ms/step - loss: 0.0207 - root_mean_squared_error: 0.1440 - val_loss: 1.1940e-04 - val_root_mean_squared_error: 0.0109\n",
            "Epoch 2/100\n",
            "73/73 [==============================] - 0s 3ms/step - loss: 6.5091e-04 - root_mean_squared_error: 0.0255 - val_loss: 1.0048e-04 - val_root_mean_squared_error: 0.0100\n",
            "Epoch 3/100\n",
            "73/73 [==============================] - 0s 3ms/step - loss: 5.7250e-04 - root_mean_squared_error: 0.0239 - val_loss: 1.1725e-04 - val_root_mean_squared_error: 0.0108\n",
            "Epoch 4/100\n",
            "73/73 [==============================] - 0s 2ms/step - loss: 4.9741e-04 - root_mean_squared_error: 0.0223 - val_loss: 6.5289e-05 - val_root_mean_squared_error: 0.0081\n",
            "Epoch 5/100\n",
            "73/73 [==============================] - 0s 2ms/step - loss: 4.4128e-04 - root_mean_squared_error: 0.0210 - val_loss: 8.7723e-05 - val_root_mean_squared_error: 0.0094\n",
            "Epoch 6/100\n",
            "73/73 [==============================] - 0s 2ms/step - loss: 3.7362e-04 - root_mean_squared_error: 0.0193 - val_loss: 6.4452e-05 - val_root_mean_squared_error: 0.0080\n",
            "Epoch 7/100\n",
            "73/73 [==============================] - 0s 3ms/step - loss: 3.4937e-04 - root_mean_squared_error: 0.0187 - val_loss: 8.4443e-05 - val_root_mean_squared_error: 0.0092\n",
            "Epoch 8/100\n",
            "73/73 [==============================] - 0s 5ms/step - loss: 3.4569e-04 - root_mean_squared_error: 0.0186 - val_loss: 4.6291e-05 - val_root_mean_squared_error: 0.0068\n",
            "Epoch 9/100\n",
            "73/73 [==============================] - 0s 4ms/step - loss: 3.1786e-04 - root_mean_squared_error: 0.0178 - val_loss: 4.1929e-05 - val_root_mean_squared_error: 0.0065\n",
            "Epoch 10/100\n",
            "73/73 [==============================] - 0s 6ms/step - loss: 3.1272e-04 - root_mean_squared_error: 0.0177 - val_loss: 5.5579e-05 - val_root_mean_squared_error: 0.0075\n",
            "Epoch 11/100\n",
            "73/73 [==============================] - 0s 4ms/step - loss: 3.1582e-04 - root_mean_squared_error: 0.0178 - val_loss: 3.8623e-05 - val_root_mean_squared_error: 0.0062\n",
            "Epoch 12/100\n",
            "73/73 [==============================] - 0s 4ms/step - loss: 2.9775e-04 - root_mean_squared_error: 0.0173 - val_loss: 3.9713e-05 - val_root_mean_squared_error: 0.0063\n",
            "Epoch 13/100\n",
            "73/73 [==============================] - 0s 4ms/step - loss: 2.8636e-04 - root_mean_squared_error: 0.0169 - val_loss: 4.2007e-05 - val_root_mean_squared_error: 0.0065\n",
            "Epoch 14/100\n",
            "73/73 [==============================] - 0s 4ms/step - loss: 2.9772e-04 - root_mean_squared_error: 0.0173 - val_loss: 7.4341e-05 - val_root_mean_squared_error: 0.0086\n",
            "Epoch 15/100\n",
            "73/73 [==============================] - 0s 3ms/step - loss: 2.8359e-04 - root_mean_squared_error: 0.0168 - val_loss: 4.4649e-05 - val_root_mean_squared_error: 0.0067\n",
            "Epoch 16/100\n",
            "73/73 [==============================] - 0s 3ms/step - loss: 2.9126e-04 - root_mean_squared_error: 0.0171 - val_loss: 5.9595e-05 - val_root_mean_squared_error: 0.0077\n",
            "Epoch 17/100\n",
            "73/73 [==============================] - 0s 3ms/step - loss: 2.8037e-04 - root_mean_squared_error: 0.0167 - val_loss: 1.0326e-04 - val_root_mean_squared_error: 0.0102\n",
            "Epoch 18/100\n",
            "73/73 [==============================] - 0s 3ms/step - loss: 2.8749e-04 - root_mean_squared_error: 0.0170 - val_loss: 5.2826e-05 - val_root_mean_squared_error: 0.0073\n",
            "Epoch 19/100\n",
            "73/73 [==============================] - 0s 3ms/step - loss: 2.8274e-04 - root_mean_squared_error: 0.0168 - val_loss: 8.4259e-05 - val_root_mean_squared_error: 0.0092\n",
            "Epoch 20/100\n",
            "73/73 [==============================] - 0s 3ms/step - loss: 2.7402e-04 - root_mean_squared_error: 0.0166 - val_loss: 3.7019e-05 - val_root_mean_squared_error: 0.0061\n",
            "Epoch 21/100\n",
            "73/73 [==============================] - 0s 4ms/step - loss: 2.6808e-04 - root_mean_squared_error: 0.0164 - val_loss: 4.5795e-05 - val_root_mean_squared_error: 0.0068\n",
            "Epoch 22/100\n",
            "73/73 [==============================] - 0s 3ms/step - loss: 2.7518e-04 - root_mean_squared_error: 0.0166 - val_loss: 4.9120e-05 - val_root_mean_squared_error: 0.0070\n",
            "Epoch 23/100\n",
            "73/73 [==============================] - 0s 3ms/step - loss: 2.6923e-04 - root_mean_squared_error: 0.0164 - val_loss: 4.1108e-05 - val_root_mean_squared_error: 0.0064\n",
            "Epoch 24/100\n",
            "73/73 [==============================] - 0s 3ms/step - loss: 2.6855e-04 - root_mean_squared_error: 0.0164 - val_loss: 5.0107e-05 - val_root_mean_squared_error: 0.0071\n",
            "Epoch 25/100\n",
            "73/73 [==============================] - 0s 2ms/step - loss: 2.8521e-04 - root_mean_squared_error: 0.0169 - val_loss: 3.4921e-05 - val_root_mean_squared_error: 0.0059\n",
            "Epoch 26/100\n",
            "73/73 [==============================] - 0s 2ms/step - loss: 2.6427e-04 - root_mean_squared_error: 0.0163 - val_loss: 4.5602e-05 - val_root_mean_squared_error: 0.0068\n",
            "Epoch 27/100\n",
            "73/73 [==============================] - 0s 2ms/step - loss: 2.8514e-04 - root_mean_squared_error: 0.0169 - val_loss: 5.0607e-05 - val_root_mean_squared_error: 0.0071\n",
            "Epoch 28/100\n",
            "73/73 [==============================] - 0s 2ms/step - loss: 2.6673e-04 - root_mean_squared_error: 0.0163 - val_loss: 3.5854e-05 - val_root_mean_squared_error: 0.0060\n",
            "Epoch 29/100\n",
            "73/73 [==============================] - 0s 2ms/step - loss: 2.5887e-04 - root_mean_squared_error: 0.0161 - val_loss: 7.7288e-05 - val_root_mean_squared_error: 0.0088\n",
            "Epoch 30/100\n",
            "73/73 [==============================] - 0s 2ms/step - loss: 2.7070e-04 - root_mean_squared_error: 0.0165 - val_loss: 3.8249e-05 - val_root_mean_squared_error: 0.0062\n",
            "Epoch 31/100\n",
            "73/73 [==============================] - 0s 3ms/step - loss: 2.6701e-04 - root_mean_squared_error: 0.0163 - val_loss: 3.8495e-05 - val_root_mean_squared_error: 0.0062\n",
            "Epoch 32/100\n",
            "73/73 [==============================] - 0s 3ms/step - loss: 2.6787e-04 - root_mean_squared_error: 0.0164 - val_loss: 5.0288e-05 - val_root_mean_squared_error: 0.0071\n",
            "Epoch 33/100\n",
            "73/73 [==============================] - 0s 3ms/step - loss: 2.6614e-04 - root_mean_squared_error: 0.0163 - val_loss: 8.8997e-05 - val_root_mean_squared_error: 0.0094\n",
            "Epoch 34/100\n",
            "73/73 [==============================] - 0s 3ms/step - loss: 2.8270e-04 - root_mean_squared_error: 0.0168 - val_loss: 8.5286e-05 - val_root_mean_squared_error: 0.0092\n",
            "Epoch 35/100\n",
            "73/73 [==============================] - 0s 3ms/step - loss: 3.2202e-04 - root_mean_squared_error: 0.0179 - val_loss: 4.3650e-05 - val_root_mean_squared_error: 0.0066\n",
            "Epoch 36/100\n",
            "73/73 [==============================] - 0s 3ms/step - loss: 2.6746e-04 - root_mean_squared_error: 0.0164 - val_loss: 3.2931e-05 - val_root_mean_squared_error: 0.0057\n",
            "Epoch 37/100\n",
            "73/73 [==============================] - 0s 3ms/step - loss: 2.6243e-04 - root_mean_squared_error: 0.0162 - val_loss: 3.6611e-05 - val_root_mean_squared_error: 0.0061\n",
            "Epoch 38/100\n",
            "73/73 [==============================] - 0s 3ms/step - loss: 2.5592e-04 - root_mean_squared_error: 0.0160 - val_loss: 1.0135e-04 - val_root_mean_squared_error: 0.0101\n",
            "Epoch 39/100\n",
            "73/73 [==============================] - 0s 2ms/step - loss: 2.7431e-04 - root_mean_squared_error: 0.0166 - val_loss: 7.3621e-05 - val_root_mean_squared_error: 0.0086\n",
            "Epoch 40/100\n",
            "73/73 [==============================] - 0s 3ms/step - loss: 2.5808e-04 - root_mean_squared_error: 0.0161 - val_loss: 8.0725e-05 - val_root_mean_squared_error: 0.0090\n",
            "Epoch 41/100\n",
            "73/73 [==============================] - 0s 3ms/step - loss: 2.6208e-04 - root_mean_squared_error: 0.0162 - val_loss: 7.2829e-05 - val_root_mean_squared_error: 0.0085\n",
            "Epoch 42/100\n",
            "73/73 [==============================] - 0s 3ms/step - loss: 2.7743e-04 - root_mean_squared_error: 0.0167 - val_loss: 3.9635e-05 - val_root_mean_squared_error: 0.0063\n",
            "Epoch 43/100\n",
            "73/73 [==============================] - 0s 3ms/step - loss: 2.7552e-04 - root_mean_squared_error: 0.0166 - val_loss: 3.8953e-05 - val_root_mean_squared_error: 0.0062\n",
            "Epoch 44/100\n",
            "73/73 [==============================] - 0s 3ms/step - loss: 2.7774e-04 - root_mean_squared_error: 0.0167 - val_loss: 3.3753e-05 - val_root_mean_squared_error: 0.0058\n",
            "Epoch 45/100\n",
            "73/73 [==============================] - 0s 2ms/step - loss: 2.5417e-04 - root_mean_squared_error: 0.0159 - val_loss: 3.3872e-05 - val_root_mean_squared_error: 0.0058\n",
            "Epoch 46/100\n",
            "73/73 [==============================] - 0s 3ms/step - loss: 2.6005e-04 - root_mean_squared_error: 0.0161 - val_loss: 5.3042e-05 - val_root_mean_squared_error: 0.0073\n",
            "Epoch 47/100\n",
            "73/73 [==============================] - 0s 2ms/step - loss: 2.4557e-04 - root_mean_squared_error: 0.0157 - val_loss: 3.7671e-05 - val_root_mean_squared_error: 0.0061\n",
            "Epoch 48/100\n",
            "73/73 [==============================] - 0s 3ms/step - loss: 2.5898e-04 - root_mean_squared_error: 0.0161 - val_loss: 3.8518e-05 - val_root_mean_squared_error: 0.0062\n",
            "Epoch 49/100\n",
            "73/73 [==============================] - 0s 2ms/step - loss: 2.8242e-04 - root_mean_squared_error: 0.0168 - val_loss: 5.9691e-05 - val_root_mean_squared_error: 0.0077\n",
            "Epoch 50/100\n",
            "73/73 [==============================] - 0s 3ms/step - loss: 3.0427e-04 - root_mean_squared_error: 0.0174 - val_loss: 3.4134e-05 - val_root_mean_squared_error: 0.0058\n",
            "Epoch 51/100\n",
            "73/73 [==============================] - 0s 3ms/step - loss: 2.7102e-04 - root_mean_squared_error: 0.0165 - val_loss: 4.7833e-05 - val_root_mean_squared_error: 0.0069\n",
            "Epoch 52/100\n",
            "73/73 [==============================] - 0s 2ms/step - loss: 2.6859e-04 - root_mean_squared_error: 0.0164 - val_loss: 4.2928e-05 - val_root_mean_squared_error: 0.0066\n",
            "Epoch 53/100\n",
            "73/73 [==============================] - 0s 2ms/step - loss: 2.5381e-04 - root_mean_squared_error: 0.0159 - val_loss: 5.5808e-05 - val_root_mean_squared_error: 0.0075\n",
            "Epoch 54/100\n",
            "73/73 [==============================] - 0s 2ms/step - loss: 2.9270e-04 - root_mean_squared_error: 0.0171 - val_loss: 3.6949e-05 - val_root_mean_squared_error: 0.0061\n",
            "Epoch 55/100\n",
            "73/73 [==============================] - 0s 2ms/step - loss: 2.8053e-04 - root_mean_squared_error: 0.0167 - val_loss: 3.3067e-05 - val_root_mean_squared_error: 0.0058\n",
            "Epoch 56/100\n",
            "73/73 [==============================] - 0s 3ms/step - loss: 2.5578e-04 - root_mean_squared_error: 0.0160 - val_loss: 3.3799e-05 - val_root_mean_squared_error: 0.0058\n",
            "Epoch 57/100\n",
            "73/73 [==============================] - 0s 2ms/step - loss: 2.5993e-04 - root_mean_squared_error: 0.0161 - val_loss: 3.4655e-05 - val_root_mean_squared_error: 0.0059\n",
            "Epoch 58/100\n",
            "73/73 [==============================] - 0s 2ms/step - loss: 2.5216e-04 - root_mean_squared_error: 0.0159 - val_loss: 3.5345e-05 - val_root_mean_squared_error: 0.0059\n",
            "Epoch 59/100\n",
            "73/73 [==============================] - 0s 2ms/step - loss: 2.5181e-04 - root_mean_squared_error: 0.0159 - val_loss: 3.3818e-05 - val_root_mean_squared_error: 0.0058\n",
            "Epoch 60/100\n",
            "73/73 [==============================] - 0s 3ms/step - loss: 2.7900e-04 - root_mean_squared_error: 0.0167 - val_loss: 6.3734e-05 - val_root_mean_squared_error: 0.0080\n",
            "Epoch 61/100\n",
            "73/73 [==============================] - 0s 3ms/step - loss: 2.5907e-04 - root_mean_squared_error: 0.0161 - val_loss: 3.5251e-05 - val_root_mean_squared_error: 0.0059\n",
            "Epoch 62/100\n",
            "73/73 [==============================] - 0s 3ms/step - loss: 2.5904e-04 - root_mean_squared_error: 0.0161 - val_loss: 4.3359e-05 - val_root_mean_squared_error: 0.0066\n",
            "Epoch 63/100\n",
            "73/73 [==============================] - 0s 3ms/step - loss: 2.4959e-04 - root_mean_squared_error: 0.0158 - val_loss: 6.9473e-05 - val_root_mean_squared_error: 0.0083\n",
            "Epoch 64/100\n",
            "73/73 [==============================] - 0s 3ms/step - loss: 2.4867e-04 - root_mean_squared_error: 0.0158 - val_loss: 6.5113e-05 - val_root_mean_squared_error: 0.0081\n",
            "Epoch 65/100\n",
            "73/73 [==============================] - 0s 2ms/step - loss: 2.4999e-04 - root_mean_squared_error: 0.0158 - val_loss: 6.4274e-05 - val_root_mean_squared_error: 0.0080\n",
            "Epoch 66/100\n",
            "73/73 [==============================] - 0s 3ms/step - loss: 2.7061e-04 - root_mean_squared_error: 0.0165 - val_loss: 7.2497e-05 - val_root_mean_squared_error: 0.0085\n",
            "Epoch 67/100\n",
            "73/73 [==============================] - 0s 3ms/step - loss: 2.6311e-04 - root_mean_squared_error: 0.0162 - val_loss: 3.6161e-05 - val_root_mean_squared_error: 0.0060\n",
            "Epoch 68/100\n",
            "73/73 [==============================] - 0s 2ms/step - loss: 2.5258e-04 - root_mean_squared_error: 0.0159 - val_loss: 6.2952e-05 - val_root_mean_squared_error: 0.0079\n",
            "Epoch 69/100\n",
            "73/73 [==============================] - 0s 3ms/step - loss: 2.5827e-04 - root_mean_squared_error: 0.0161 - val_loss: 9.0498e-05 - val_root_mean_squared_error: 0.0095\n",
            "Epoch 70/100\n",
            "73/73 [==============================] - 0s 3ms/step - loss: 2.8555e-04 - root_mean_squared_error: 0.0169 - val_loss: 3.3231e-05 - val_root_mean_squared_error: 0.0058\n",
            "Epoch 71/100\n",
            "73/73 [==============================] - 0s 4ms/step - loss: 2.6181e-04 - root_mean_squared_error: 0.0162 - val_loss: 4.8239e-05 - val_root_mean_squared_error: 0.0069\n",
            "Epoch 72/100\n",
            "73/73 [==============================] - 0s 3ms/step - loss: 2.7281e-04 - root_mean_squared_error: 0.0165 - val_loss: 3.1962e-05 - val_root_mean_squared_error: 0.0057\n",
            "Epoch 73/100\n",
            "73/73 [==============================] - 0s 3ms/step - loss: 2.8866e-04 - root_mean_squared_error: 0.0170 - val_loss: 3.8810e-05 - val_root_mean_squared_error: 0.0062\n",
            "Epoch 74/100\n",
            "73/73 [==============================] - 0s 4ms/step - loss: 2.5504e-04 - root_mean_squared_error: 0.0160 - val_loss: 5.4978e-05 - val_root_mean_squared_error: 0.0074\n",
            "Epoch 75/100\n",
            "73/73 [==============================] - 0s 6ms/step - loss: 2.6324e-04 - root_mean_squared_error: 0.0162 - val_loss: 4.9037e-05 - val_root_mean_squared_error: 0.0070\n",
            "Epoch 76/100\n",
            "73/73 [==============================] - 0s 4ms/step - loss: 2.9019e-04 - root_mean_squared_error: 0.0170 - val_loss: 5.5862e-05 - val_root_mean_squared_error: 0.0075\n",
            "Epoch 77/100\n",
            "73/73 [==============================] - 0s 4ms/step - loss: 2.8344e-04 - root_mean_squared_error: 0.0168 - val_loss: 4.0182e-05 - val_root_mean_squared_error: 0.0063\n",
            "Epoch 78/100\n",
            "73/73 [==============================] - 0s 4ms/step - loss: 2.4656e-04 - root_mean_squared_error: 0.0157 - val_loss: 4.6952e-05 - val_root_mean_squared_error: 0.0069\n",
            "Epoch 79/100\n",
            "73/73 [==============================] - 0s 3ms/step - loss: 2.4858e-04 - root_mean_squared_error: 0.0158 - val_loss: 3.4507e-05 - val_root_mean_squared_error: 0.0059\n",
            "Epoch 80/100\n",
            "73/73 [==============================] - 0s 4ms/step - loss: 2.4384e-04 - root_mean_squared_error: 0.0156 - val_loss: 4.2063e-05 - val_root_mean_squared_error: 0.0065\n",
            "Epoch 81/100\n",
            "73/73 [==============================] - 0s 3ms/step - loss: 2.6289e-04 - root_mean_squared_error: 0.0162 - val_loss: 3.4347e-05 - val_root_mean_squared_error: 0.0059\n",
            "Epoch 82/100\n",
            "73/73 [==============================] - 0s 3ms/step - loss: 2.8597e-04 - root_mean_squared_error: 0.0169 - val_loss: 5.3410e-05 - val_root_mean_squared_error: 0.0073\n",
            "Epoch 83/100\n",
            "73/73 [==============================] - 0s 3ms/step - loss: 2.6516e-04 - root_mean_squared_error: 0.0163 - val_loss: 3.3662e-05 - val_root_mean_squared_error: 0.0058\n",
            "Epoch 84/100\n",
            "73/73 [==============================] - 0s 3ms/step - loss: 2.9665e-04 - root_mean_squared_error: 0.0172 - val_loss: 3.6406e-05 - val_root_mean_squared_error: 0.0060\n",
            "Epoch 85/100\n",
            "73/73 [==============================] - 0s 4ms/step - loss: 2.5694e-04 - root_mean_squared_error: 0.0160 - val_loss: 3.5032e-05 - val_root_mean_squared_error: 0.0059\n",
            "Epoch 86/100\n",
            "73/73 [==============================] - 0s 4ms/step - loss: 2.5113e-04 - root_mean_squared_error: 0.0158 - val_loss: 3.7558e-05 - val_root_mean_squared_error: 0.0061\n",
            "Epoch 87/100\n",
            "73/73 [==============================] - 0s 4ms/step - loss: 2.5138e-04 - root_mean_squared_error: 0.0159 - val_loss: 6.0960e-05 - val_root_mean_squared_error: 0.0078\n",
            "Epoch 88/100\n",
            "73/73 [==============================] - 0s 5ms/step - loss: 2.5543e-04 - root_mean_squared_error: 0.0160 - val_loss: 3.9180e-05 - val_root_mean_squared_error: 0.0063\n",
            "Epoch 89/100\n",
            "73/73 [==============================] - 0s 5ms/step - loss: 2.5594e-04 - root_mean_squared_error: 0.0160 - val_loss: 5.3569e-05 - val_root_mean_squared_error: 0.0073\n",
            "Epoch 90/100\n",
            "73/73 [==============================] - 0s 3ms/step - loss: 2.6427e-04 - root_mean_squared_error: 0.0163 - val_loss: 4.1590e-05 - val_root_mean_squared_error: 0.0064\n",
            "Epoch 91/100\n",
            "73/73 [==============================] - 0s 3ms/step - loss: 2.6274e-04 - root_mean_squared_error: 0.0162 - val_loss: 5.7285e-05 - val_root_mean_squared_error: 0.0076\n",
            "Epoch 92/100\n",
            "73/73 [==============================] - 0s 3ms/step - loss: 2.5218e-04 - root_mean_squared_error: 0.0159 - val_loss: 5.9734e-05 - val_root_mean_squared_error: 0.0077\n",
            "Epoch 93/100\n",
            "73/73 [==============================] - 0s 3ms/step - loss: 2.5833e-04 - root_mean_squared_error: 0.0161 - val_loss: 3.3362e-05 - val_root_mean_squared_error: 0.0058\n",
            "Epoch 94/100\n",
            "73/73 [==============================] - 0s 3ms/step - loss: 2.5647e-04 - root_mean_squared_error: 0.0160 - val_loss: 8.6293e-05 - val_root_mean_squared_error: 0.0093\n",
            "Epoch 95/100\n",
            "73/73 [==============================] - 0s 3ms/step - loss: 2.6342e-04 - root_mean_squared_error: 0.0162 - val_loss: 3.9938e-05 - val_root_mean_squared_error: 0.0063\n",
            "Epoch 96/100\n",
            "73/73 [==============================] - 0s 4ms/step - loss: 2.7923e-04 - root_mean_squared_error: 0.0167 - val_loss: 3.3272e-05 - val_root_mean_squared_error: 0.0058\n",
            "Epoch 97/100\n",
            "73/73 [==============================] - 0s 3ms/step - loss: 2.6148e-04 - root_mean_squared_error: 0.0162 - val_loss: 4.7152e-05 - val_root_mean_squared_error: 0.0069\n",
            "Epoch 98/100\n",
            "73/73 [==============================] - 0s 4ms/step - loss: 2.5788e-04 - root_mean_squared_error: 0.0161 - val_loss: 3.3357e-05 - val_root_mean_squared_error: 0.0058\n",
            "Epoch 99/100\n",
            "73/73 [==============================] - 0s 3ms/step - loss: 2.6326e-04 - root_mean_squared_error: 0.0162 - val_loss: 3.7691e-05 - val_root_mean_squared_error: 0.0061\n",
            "Epoch 100/100\n",
            "73/73 [==============================] - 0s 3ms/step - loss: 3.1806e-04 - root_mean_squared_error: 0.0178 - val_loss: 3.3484e-05 - val_root_mean_squared_error: 0.0058\n"
          ]
        }
      ]
    },
    {
      "cell_type": "code",
      "source": [
        "print(\n",
        "    \"Train loss: \",\n",
        "    history.history[\"loss\"][-1],\n",
        "    \"\\nTest loss:\",\n",
        "    history.history[\"val_loss\"][-1],\n",
        "  \n",
        ")"
      ],
      "metadata": {
        "colab": {
          "base_uri": "https://localhost:8080/"
        },
        "id": "74tDwK-hDgoe",
        "outputId": "dcda31d2-70de-4404-8ec5-e012243334fc"
      },
      "execution_count": 26,
      "outputs": [
        {
          "output_type": "stream",
          "name": "stdout",
          "text": [
            "Train loss:  0.00031806397601030767 \n",
            "Test loss: 3.348431710037403e-05\n"
          ]
        }
      ]
    },
    {
      "cell_type": "code",
      "source": [
        "import matplotlib.pyplot as plt\n",
        "plt.plot(history.history['loss'])\n",
        "plt.plot(history.history['val_loss'])\n",
        "plt.title('model loss')\n",
        "plt.ylabel('loss')\n",
        "plt.xlabel('epoch')\n",
        "plt.legend(['train', 'val_test'], loc='upper left')\n",
        "plt.savefig('loss_ann_1day.png')"
      ],
      "metadata": {
        "colab": {
          "base_uri": "https://localhost:8080/",
          "height": 472
        },
        "id": "Zv_BTUzzDvNb",
        "outputId": "b0ee6ee5-c0f8-4122-fc74-41b1c8c776d1"
      },
      "execution_count": 27,
      "outputs": [
        {
          "output_type": "display_data",
          "data": {
            "text/plain": [
              "<Figure size 640x480 with 1 Axes>"
            ],
            "image/png": "[encoded data removed]"
          },
          "metadata": {}
        }
      ]
    },
    {
      "cell_type": "code",
      "source": [
        "import matplotlib.pyplot as plt\n",
        "plt.plot(history.history['root_mean_squared_error'])\n",
        "plt.plot(history.history['val_root_mean_squared_error'])\n",
        "plt.title('model rmse')\n",
        "plt.ylabel('rmse')\n",
        "plt.xlabel('epoch')\n",
        "plt.legend(['train', 'val_test'], loc='upper left')\n",
        "plt.savefig('rmse_ann_1dayoutput.png')"
      ],
      "metadata": {
        "colab": {
          "base_uri": "https://localhost:8080/",
          "height": 472
        },
        "id": "XUE9TH-wScXU",
        "outputId": "b15b45cc-e6be-46d4-f482-7d6efa36781d"
      },
      "execution_count": 28,
      "outputs": [
        {
          "output_type": "display_data",
          "data": {
            "text/plain": [
              "<Figure size 640x480 with 1 Axes>"
            ],
            "image/png": "[encoded data removed]"
          },
          "metadata": {}
        }
      ]
    },
    {
      "cell_type": "code",
      "source": [
        "predict_y1=model.predict(testX)"
      ],
      "metadata": {
        "colab": {
          "base_uri": "https://localhost:8080/"
        },
        "id": "s6n7a8KIEHwm",
        "outputId": "9f5364b1-2f32-4e9c-cb80-e2cc63ff06a8"
      },
      "execution_count": 29,
      "outputs": [
        {
          "output_type": "stream",
          "name": "stdout",
          "text": [
            "6/6 [==============================] - 0s 4ms/step\n"
          ]
        }
      ]
    },
    {
      "cell_type": "code",
      "source": [
        "import math\n",
        "MSE = np.square(np.subtract(testY,predict_y1)).mean()      \n",
        "rsme = math.sqrt(MSE)  \n",
        "print(\"Root Mean Square Error of test data set:\\n\")  \n",
        "print(rsme)  "
      ],
      "metadata": {
        "colab": {
          "base_uri": "https://localhost:8080/"
        },
        "id": "t51zYd9lEzHH",
        "outputId": "7261f660-23c0-43bc-ee31-75c5e0e6256c"
      },
      "execution_count": 30,
      "outputs": [
        {
          "output_type": "stream",
          "name": "stdout",
          "text": [
            "Root Mean Square Error of test data set:\n",
            "\n",
            "0.005786564125310601\n"
          ]
        }
      ]
    },
    {
      "cell_type": "code",
      "source": [
        "from sklearn.metrics import r2_score\n",
        "\n",
        "r2_score(testY, predict_y1)"
      ],
      "metadata": {
        "colab": {
          "base_uri": "https://localhost:8080/"
        },
        "id": "QVaTGu88jb9A",
        "outputId": "042c75e6-34ee-4919-fd15-217f461f9a8c"
      },
      "execution_count": 37,
      "outputs": [
        {
          "output_type": "execute_result",
          "data": {
            "text/plain": [
              "0.9852568478603696"
            ]
          },
          "metadata": {},
          "execution_count": 37
        }
      ]
    },
    {
      "cell_type": "code",
      "source": [
        "y_actual=testY\n",
        "y_pred=predict_y1"
      ],
      "metadata": {
        "id": "FzTvDzJfFFQn"
      },
      "execution_count": 31,
      "outputs": []
    },
    {
      "cell_type": "code",
      "source": [
        "plt.plot(y_actual)\n",
        "plt.plot(y_pred)\n",
        "plt.title('Comaprison of SM for lat=47.375 and lat=87.625')\n",
        "plt.ylabel('SM')\n",
        "plt.xlabel('prediction for last 175 days')\n",
        "plt.legend(['y_actual', 'y_pred'], loc='upper right')\n",
        "plt.savefig('For_1_loc.png')"
      ],
      "metadata": {
        "colab": {
          "base_uri": "https://localhost:8080/",
          "height": 472
        },
        "id": "Bhm_3ySME6a2",
        "outputId": "ca2e9f19-e54d-4edd-bdb4-7396e27323cc"
      },
      "execution_count": 35,
      "outputs": [
        {
          "output_type": "display_data",
          "data": {
            "text/plain": [
              "<Figure size 640x480 with 1 Axes>"
            ],
            "image/png": "[encoded data removed]"
          },
          "metadata": {}
        }
      ]
    },
    {
      "cell_type": "code",
      "source": [
        "model.save('ann_1day.h5')"
      ],
      "metadata": {
        "id": "oJkJFOgDTGWj"
      },
      "execution_count": 34,
      "outputs": []
    },
    {
      "cell_type": "code",
      "source": [],
      "metadata": {
        "id": "PFSvvR2hI6DM"
      },
      "execution_count": null,
      "outputs": []
    }
  ]
}